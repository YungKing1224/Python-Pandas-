{
  "nbformat": 4,
  "nbformat_minor": 0,
  "metadata": {
    "colab": {
      "provenance": [],
      "authorship_tag": "ABX9TyO6dTxKktRCxuuQJTXjhHuX",
      "include_colab_link": true
    },
    "kernelspec": {
      "name": "python3",
      "display_name": "Python 3"
    },
    "language_info": {
      "name": "python"
    }
  },
  "cells": [
    {
      "cell_type": "markdown",
      "metadata": {
        "id": "view-in-github",
        "colab_type": "text"
      },
      "source": [
        "<a href=\"https://colab.research.google.com/github/YungKing1224/Python-data-science/blob/main/titanic.ipynb\" target=\"_parent\"><img src=\"https://colab.research.google.com/assets/colab-badge.svg\" alt=\"Open In Colab\"/></a>"
      ]
    },
    {
      "cell_type": "markdown",
      "source": [
        "# Import libraries\n",
        "\n",
        "Import the libraries to be used in the study. Import pandas and numpy."
      ],
      "metadata": {
        "id": "pFTtJjNV3cpw"
      }
    },
    {
      "cell_type": "code",
      "execution_count": 1,
      "metadata": {
        "id": "qDKnSKZh2pA7"
      },
      "outputs": [],
      "source": [
        "import pandas as pd\n",
        "import numpy as np"
      ]
    },
    {
      "cell_type": "markdown",
      "source": [
        "# Load the data set\n",
        "\n",
        "The data is taken from titanic - Machine Learning from Disaster.\n",
        "\n",
        "https://www.kaggle.com/c/titanic/data\n",
        "\n",
        "\n",
        "The train, test and gender are the data sets."
      ],
      "metadata": {
        "id": "DXssGOvU3vle"
      }
    },
    {
      "cell_type": "code",
      "source": [
        "df_train = pd.read_csv('train.csv')\n",
        "df_test = pd.read_csv('test.csv')\n",
        "df_gender = pd.read_csv('gender_submission.csv')"
      ],
      "metadata": {
        "id": "8tvaoJXc23m5"
      },
      "execution_count": 4,
      "outputs": []
    },
    {
      "cell_type": "code",
      "source": [],
      "metadata": {
        "id": "SvSicJRP3bNR"
      },
      "execution_count": null,
      "outputs": []
    }
  ]
}